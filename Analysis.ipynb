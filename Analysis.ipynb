{
 "cells": [
  {
   "cell_type": "markdown",
   "id": "62b44507",
   "metadata": {},
   "source": [
    "# Analysis"
   ]
  },
  {
   "cell_type": "markdown",
   "id": "b729b55d",
   "metadata": {},
   "source": [
    "if use # (word) it makes a title "
   ]
  }
 ],
 "metadata": {
  "language_info": {
   "name": "python"
  }
 },
 "nbformat": 4,
 "nbformat_minor": 5
}
